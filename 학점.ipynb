{
  "nbformat": 4,
  "nbformat_minor": 0,
  "metadata": {
    "colab": {
      "provenance": []
    },
    "kernelspec": {
      "name": "python3",
      "display_name": "Python 3"
    },
    "language_info": {
      "name": "python"
    }
  },
  "cells": [
    {
      "cell_type": "code",
      "execution_count": null,
      "metadata": {
        "id": "WWM-xvyGIYYf"
      },
      "outputs": [],
      "source": [
        "total_grade = ['A','B','C','D','E','F']\n",
        "count_grade = [0]*6\n",
        "\n",
        "\n",
        "while True:\n",
        "    score = (input('학생의 점수를 입력하시오(0이상 100이하): '))\n",
        "\n",
        "    if not(score.isdigit()) or not(0 <= int(score) <= 100):\n",
        "        print('잘못 입렵하셧습니다. 다시 입력하십시오.')\n",
        "        continue\n",
        "        \n",
        "    attendance = (input('학생의 결석일 수를 입력하시오(0이상 수업일수 이하)'))\n",
        "        \n",
        "    if not(attendance.isdigit()) or not(0<= int(attendance) <= 30):\n",
        "        print('잘못 입력하셧습니다. 다시 입력하십시오.')\n",
        "        continue\n",
        "            \n",
        "    score = int(score)\n",
        "    attendance = int(attendance)\n",
        "\n",
        "    if score >=90: grade = 'A'\n",
        "    elif score >=80: grade = 'B'\n",
        "    elif score >=70: grade = 'C'\n",
        "    elif score >=60: grade = 'D'\n",
        "    else: grade = 'F'\n",
        "    \n",
        "    if attendance >= 6: grade = 'F'\n",
        "    else: grade = grade\n",
        "\n",
        "    if grade == 'A': count_grade[0] += 1\n",
        "    elif grade == 'B': count_grade[1] += 1\n",
        "    elif grade == 'C': count_grade[2] += 1\n",
        "    elif grade == 'D': count_grade[3] += 1\n",
        "    elif grade == 'E': count_grade[4] += 1\n",
        "    elif grade == 'F': count_grade[5] += 1\n",
        "    else: grade = grade\n",
        "\n",
        "    print('==> 학생의 성적등급은' + grade + '입니다.')\n",
        "    reset = (input('계속 입력하시겠습니까?(YES: y 혹은 Y, No: n 혹은 N): '))\n",
        "    if reset == 'Y':\n",
        "        continue\n",
        "    elif reset == 'y':\n",
        "        continue\n",
        "    elif reset == 'N':    \n",
        "        break\n",
        "    elif reset == 'n':\n",
        "        break       \n",
        "    else: print('잘못 입력하셨습니다. 다시 입력하십시오')\n",
        "\n",
        "print('--------------------------------------------------------')\n",
        "print(total_grade ,':' ,count_grade)"
      ]
    }
  ]
}