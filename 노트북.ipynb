{
  "nbformat": 4,
  "nbformat_minor": 0,
  "metadata": {
    "colab": {
      "provenance": []
    },
    "kernelspec": {
      "name": "python3",
      "display_name": "Python 3"
    },
    "language_info": {
      "name": "python"
    }
  },
  "cells": [
    {
      "cell_type": "code",
      "execution_count": null,
      "metadata": {
        "id": "WWM-xvyGIYYf"
      },
      "outputs": [],
      "source": [
        "class NoteBook:\n",
        "    def __init__(self, title):\n",
        "        self.title = title\n",
        "        self.page_number = 0  #가장 최근에 추가된 페이지번호(찢겨져도 유지)\n",
        "        self.notes = {}\n",
        "        \n",
        "    def add_note(self, note):\n",
        "        self.page_number += 1\n",
        "\n",
        "    \n",
        "    def remove_note(self, page):\n",
        "        if page in self.notes.keys():\n",
        "            del self.notes[page]\n",
        "        else:\n",
        "            print('해당 페이지는 존재하지 않습니다.')\n",
        "        \n",
        "    def count_pages(self):\n",
        "        return len(self.notes.keys())\n",
        "\n",
        "let = []\n",
        "        \n",
        "title = input('노트북에 제목을 입력하세요: ')\n",
        "notebook = NoteBook(title)\n",
        " \n",
        "while True:\n",
        "    new_note = input('새 노트에 내용을 입력하세요: ')\n",
        "    if new_note in ['q','Q']: break\n",
        "    \n",
        "    else:\n",
        "        let.append(new_note)\n",
        "        notebook.add_note(new_note)\n",
        "        continue\n",
        "    \n",
        "letter = ''.join(let)\n",
        "print('노트북 정보'.center(30,'-'))\n",
        "print('노트북 제목: {}'.format(notebook.title))\n",
        "print('페이지수: {}'.format(notebook.page_number))\n",
        "print('글자수: {}'.format(len(letter)))"
      ]
    }
  ]
}