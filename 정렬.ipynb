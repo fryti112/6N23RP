{
  "nbformat": 4,
  "nbformat_minor": 0,
  "metadata": {
    "colab": {
      "provenance": []
    },
    "kernelspec": {
      "name": "python3",
      "display_name": "Python 3"
    },
    "language_info": {
      "name": "python"
    }
  },
  "cells": [
    {
      "cell_type": "code",
      "execution_count": null,
      "metadata": {
        "id": "WWM-xvyGIYYf"
      },
      "outputs": [],
      "source": [
        "sp = {'baseball':9, 'basketall':5, 'soccer':11, 'volleyball':6}\n",
        "\n",
        "spt = lambda x:sp[x]\n",
        "\n",
        "print([(k, spt(k)) for k in sorted(sp)])\n",
        "print([(k, spt(k)) for k in sorted(sp, key = spt)])\n",
        "\n",
        "\n",
        "\n",
        "#===================================================================\n",
        "\n",
        "\n",
        "sp = [('baseball', 9), ('basketall', 5), ('soccer', 11), ('volleyball', 6)]\n",
        "print(sorted(sp, key= lambda sp:sp[0]))\n",
        "print(sorted(sp, key= lambda sp:sp[1]))\n",
        "\n"
      ]
    }
  ]
}